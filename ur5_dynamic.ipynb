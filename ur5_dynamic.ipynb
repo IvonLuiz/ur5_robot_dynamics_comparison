{
 "cells": [
  {
   "cell_type": "markdown",
   "id": "728ef26d",
   "metadata": {},
   "source": [
    "Dynamics for the UR5 Robot calculated versus Peter Cook"
   ]
  },
  {
   "cell_type": "code",
   "execution_count": 1,
   "id": "d4ec407e",
   "metadata": {},
   "outputs": [],
   "source": [
    "import numpy as np\n",
    "import matplotlib.pyplot as plt\n",
    "from roboticstoolbox import DHRobot, RevoluteDH\n",
    "\n",
    "from src.ur5_dynamics import UR5DynamicModel\n",
    "from src.compare_models import compare_models"
   ]
  },
  {
   "cell_type": "markdown",
   "id": "2f0b4c9c",
   "metadata": {},
   "source": [
    "For the UR5 robot:\n",
    "\n",
    "- Do research on its sound model;\n",
    "- Check the specifications of the joints and choose compatible random efforts (forces or torques);\n",
    "- Implement dynamic equations through a script (python, matlab, lua...);\n",
    "- Apply efforts directly to the joints and monitor the positions of the links;\n",
    "- Compare with the results obtained by applying the same efforts to the model simulated by a simulator of your choice."
   ]
  },
  {
   "cell_type": "code",
   "execution_count": null,
   "id": "84004157",
   "metadata": {},
   "outputs": [
    {
     "name": "stdout",
     "output_type": "stream",
     "text": [
      "50\n"
     ]
    }
   ],
   "source": [
    "# Initial config\n",
    "qd0 = np.zeros(6)\n",
    "q0 = np.zeros(6)\n",
    "\n",
    "# Torque input\n",
    "tau = np.array([0.1, -1, -0.2, -0.2, 0.1, -0.1])\n",
    "\n",
    "t_span = np.linspace(0, 1.0, 50)\n",
    "print(len(t_span))"
   ]
  },
  {
   "cell_type": "code",
   "execution_count": null,
   "id": "78515d4c",
   "metadata": {},
   "outputs": [
    {
     "name": "stdout",
     "output_type": "stream",
     "text": [
      "Running own model\n",
      "...\n",
      "Integrating dynamics using solve_ivp...\n",
      "Simulating t = 0.51s"
     ]
    }
   ],
   "source": [
    "print(\"Running own model\")\n",
    "ur5 = UR5DynamicModel()\n",
    "sol_custom = ur5.simulate(q0, qd0, tau, t_span)"
   ]
  },
  {
   "cell_type": "code",
   "execution_count": null,
   "id": "48c965d1",
   "metadata": {},
   "outputs": [
    {
     "name": "stdout",
     "output_type": "stream",
     "text": [
      "Running Robotics Toolbox model\n"
     ]
    }
   ],
   "source": [
    "print(\"Running Robotics Toolbox model\")\n",
    "ur5_rtb = DHRobot([\n",
    "    RevoluteDH(d=0.089159, alpha=np.pi/2),\n",
    "    RevoluteDH(a=0.425),\n",
    "    RevoluteDH(a=0.39225),\n",
    "    RevoluteDH(d=0.10915, alpha=np.pi/2),\n",
    "    RevoluteDH(d=0.09465, alpha=-np.pi/2),\n",
    "    RevoluteDH(d=0.0823)\n",
    "], name=\"UR5\")"
   ]
  },
  {
   "cell_type": "code",
   "execution_count": null,
   "id": "3a4adde8",
   "metadata": {},
   "outputs": [
    {
     "name": "stdout",
     "output_type": "stream",
     "text": [
      "Saving plots to: /home/ivon/code/ur5_robot_dynamics_comparison/results\n",
      "Configuring and simulating Robotics Toolbox model...\n",
      "RTB model with parameters:\n",
      "Link 1: m=3.7, r=[ 0.      -0.02561  0.00193], I=[[0.010267 0.       0.      ]\n",
      " [0.       0.010267 0.      ]\n",
      " [0.       0.       0.00666 ]]\n",
      "Link 2: m=8.393, r=[0.2125  0.      0.11336], I=[[0.22689   0.        0.       ]\n",
      " [0.        0.22689   0.       ]\n",
      " [0.        0.        0.0151074]]\n",
      "Link 3: m=2.33, r=[0.15   0.     0.0265], I=[[0.049443 0.       0.      ]\n",
      " [0.       0.049443 0.      ]\n",
      " [0.       0.       0.004095]]\n",
      "Link 4: m=1.219, r=[ 0.      -0.0018   0.01634], I=[[0.111172 0.       0.      ]\n",
      " [0.       0.111172 0.      ]\n",
      " [0.       0.       0.21942 ]]\n",
      "Link 5: m=1.219, r=[0.      0.0018  0.01634], I=[[0.111172 0.       0.      ]\n",
      " [0.       0.111172 0.      ]\n",
      " [0.       0.       0.21942 ]]\n",
      "Link 6: m=0.1879, r=[ 0.        0.       -0.001159], I=[[0.017136 0.       0.      ]\n",
      " [0.       0.017136 0.      ]\n",
      " [0.       0.       0.033822]]\n",
      "Custom model parameters:\n",
      "Link 1: m=3.7, r=[ 0.      -0.02561  0.00193], I=[0.010267 0.010267 0.00666 ]\n",
      "Link 2: m=8.393, r=[0.2125  0.      0.11336], I=[0.22689   0.22689   0.0151074]\n",
      "Link 3: m=2.33, r=[0.15   0.     0.0265], I=[0.049443 0.049443 0.004095]\n",
      "Link 4: m=1.219, r=[ 0.      -0.0018   0.01634], I=[0.111172 0.111172 0.21942 ]\n",
      "Link 5: m=1.219, r=[0.      0.0018  0.01634], I=[0.111172 0.111172 0.21942 ]\n",
      "Link 6: m=0.1879, r=[ 0.        0.       -0.001159], I=[0.017136 0.017136 0.033822]\n",
      "(100, 6) (1000, 6)\n",
      "(100,) (1000,)\n",
      "(100, 6) (1000, 6)\n",
      "(100,) (1000,)\n",
      "\n",
      "Plotting complete. Figures saved to the 'results' folder.\n",
      "\n",
      "Final Joint Position Errors (Custom vs RTB):\n",
      "Joint 1: -5.601228e-01 rad\n",
      "Joint 2: 2.703529e+00 rad\n",
      "Joint 3: 4.777650e+00 rad\n",
      "Joint 4: -8.789725e+00 rad\n",
      "Joint 5: -2.070505e-01 rad\n",
      "Joint 6: -3.149779e-01 rad\n",
      "\n",
      "RMS Error of Final Joint Positions: 4.239695e+00 rad\n",
      "\n",
      "Note: Small discrepancies are expected due to differing internal solvers/precision.\n"
     ]
    }
   ],
   "source": [
    "compare_models(tau, ur5, sol_custom, ur5_rtb, t_span)"
   ]
  }
 ],
 "metadata": {
  "kernelspec": {
   "display_name": ".venv",
   "language": "python",
   "name": "python3"
  },
  "language_info": {
   "codemirror_mode": {
    "name": "ipython",
    "version": 3
   },
   "file_extension": ".py",
   "mimetype": "text/x-python",
   "name": "python",
   "nbconvert_exporter": "python",
   "pygments_lexer": "ipython3",
   "version": "3.8.10"
  }
 },
 "nbformat": 4,
 "nbformat_minor": 5
}
